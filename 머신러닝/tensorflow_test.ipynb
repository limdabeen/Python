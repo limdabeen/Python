{
 "cells": [
  {
   "cell_type": "code",
   "execution_count": 24,
   "id": "7fe954f5-b9aa-4dae-a70e-edb047a0326e",
   "metadata": {},
   "outputs": [
    {
     "name": "stdout",
     "output_type": "stream",
     "text": [
      "placeholder I: Tensor(\"Placeholder_6:0\", shape=(?, 2), dtype=float32)\n",
      "placeholder V: Tensor(\"Placeholder_7:0\", shape=(?, 1), dtype=float32)\n"
     ]
    }
   ],
   "source": [
    "import tensorflow.compat.v1 as tf\n",
    "tf.disable_v2_behavior()\n",
    "\n",
    "# 데이터\n",
    "x = [[0,0], [0,1], [1,0], [1,1]]\n",
    "y = [[0], [0], [0], [1]]\n",
    "\n",
    "# 입력/출력 placeholder 정의\n",
    "I = tf.placeholder(tf.float32, shape=[None, 2])\n",
    "V = tf.placeholder(tf.float32, shape=[None, 1])\n",
    "print(\"placeholder I:\", I)\n",
    "print(\"placeholder V:\", V)\n"
   ]
  },
  {
   "cell_type": "code",
   "execution_count": 26,
   "id": "4db5587b-0cc8-4ebd-a492-c1e9d7a4fad1",
   "metadata": {},
   "outputs": [
    {
     "name": "stdout",
     "output_type": "stream",
     "text": [
      "/opt/anaconda3/bin/python\n"
     ]
    }
   ],
   "source": [
    "import sys\n",
    "print(sys.executable)"
   ]
  },
  {
   "cell_type": "code",
   "execution_count": 16,
   "id": "23f75172-3091-4220-9ee5-a3f49464f32b",
   "metadata": {},
   "outputs": [],
   "source": [
    "import tensorflow.compat.v1 as tf\n",
    "tf.disable_v2_behavior()"
   ]
  },
  {
   "cell_type": "code",
   "execution_count": 22,
   "id": "d9be3c92-1a15-4c89-8157-1cb5027747c7",
   "metadata": {},
   "outputs": [],
   "source": []
  },
  {
   "cell_type": "code",
   "execution_count": null,
   "id": "884460f7-228b-4612-b398-f78337ce3bb9",
   "metadata": {},
   "outputs": [],
   "source": []
  }
 ],
 "metadata": {
  "kernelspec": {
   "display_name": "Python 3 (ipykernel)",
   "language": "python",
   "name": "python3"
  },
  "language_info": {
   "codemirror_mode": {
    "name": "ipython",
    "version": 3
   },
   "file_extension": ".py",
   "mimetype": "text/x-python",
   "name": "python",
   "nbconvert_exporter": "python",
   "pygments_lexer": "ipython3",
   "version": "3.12.4"
  }
 },
 "nbformat": 4,
 "nbformat_minor": 5
}
